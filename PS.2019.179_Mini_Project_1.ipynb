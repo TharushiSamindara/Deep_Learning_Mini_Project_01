{
  "nbformat": 4,
  "nbformat_minor": 0,
  "metadata": {
    "colab": {
      "provenance": []
    },
    "kernelspec": {
      "name": "python3",
      "display_name": "Python 3"
    },
    "language_info": {
      "name": "python"
    }
  },
  "cells": [
    {
      "cell_type": "markdown",
      "source": [
        "Creating CSV files"
      ],
      "metadata": {
        "id": "LKvUT48PGAzn"
      }
    },
    {
      "cell_type": "code",
      "execution_count": 171,
      "metadata": {
        "id": "hQKBOb7_F6hH"
      },
      "outputs": [],
      "source": [
        "import numpy as np\n",
        "import random\n",
        "import os\n",
        "import matplotlib.pyplot as plt\n",
        "import pandas as pd\n",
        "from tensorflow.keras.models import Sequential\n",
        "from tensorflow.keras.layers import Conv2D, MaxPooling2D, Dense, Flatten\n",
        "from tensorflow.keras.utils import to_categorical\n",
        "from tensorflow.keras.preprocessing.image import load_img, img_to_array\n",
        "from tensorflow.keras.models import load_model\n",
        "from sklearn.model_selection import train_test_split"
      ]
    },
    {
      "cell_type": "markdown",
      "source": [
        "Mount the Google Drive"
      ],
      "metadata": {
        "id": "6h32GN1PLVwy"
      }
    },
    {
      "cell_type": "code",
      "source": [
        "from google.colab import drive\n",
        "drive.mount('/content/drive')"
      ],
      "metadata": {
        "colab": {
          "base_uri": "https://localhost:8080/"
        },
        "id": "IRz8l5diLToH",
        "outputId": "1a292e72-0392-472d-9578-3ff8176d304a"
      },
      "execution_count": 172,
      "outputs": [
        {
          "output_type": "stream",
          "name": "stdout",
          "text": [
            "Drive already mounted at /content/drive; to attempt to forcibly remount, call drive.mount(\"/content/drive\", force_remount=True).\n"
          ]
        }
      ]
    },
    {
      "cell_type": "markdown",
      "source": [
        "Preprocess the Data: Load the images, resize them and create labels."
      ],
      "metadata": {
        "id": "ct5rofKRMRHL"
      }
    },
    {
      "cell_type": "code",
      "source": [
        "# Directory containing the uploaded images\n",
        "image_dir = '/content/drive/My Drive/Deep_Learning/Data'"
      ],
      "metadata": {
        "id": "QmiezdCdL5Nf"
      },
      "execution_count": 173,
      "outputs": []
    },
    {
      "cell_type": "code",
      "source": [
        "image_paths = []\n",
        "labels = []"
      ],
      "metadata": {
        "id": "UyYIVr6TMt91"
      },
      "execution_count": 174,
      "outputs": []
    },
    {
      "cell_type": "markdown",
      "source": [
        "Load the Dataset and Class Labels"
      ],
      "metadata": {
        "id": "bOtZdSiiMw_3"
      }
    },
    {
      "cell_type": "code",
      "source": [
        "for filename in os.listdir(image_dir):\n",
        "    if filename.startswith(\"L\") or filename.startswith(\"W\"):\n",
        "        image_paths.append(os.path.join(image_dir, filename))\n",
        "        # Create labels based on the filenames (0 for L, 1 for W)\n",
        "        if filename.startswith(\"L\"):\n",
        "            labels.append(0)\n",
        "        elif filename.startswith(\"W\"):\n",
        "            labels.append(1)"
      ],
      "metadata": {
        "id": "RFisR00_MyMp"
      },
      "execution_count": 175,
      "outputs": []
    },
    {
      "cell_type": "code",
      "source": [
        "from tensorflow.keras.preprocessing import image\n",
        "img = image.load_img('/content/drive/My Drive/Deep_Learning/Data/L01.jpeg')\n",
        "plt.imshow(img)"
      ],
      "metadata": {
        "colab": {
          "base_uri": "https://localhost:8080/",
          "height": 453
        },
        "id": "Mrip_tFbTy9u",
        "outputId": "2002305a-4329-44ee-ca50-6e63f6b505f1"
      },
      "execution_count": 176,
      "outputs": [
        {
          "output_type": "execute_result",
          "data": {
            "text/plain": [
              "<matplotlib.image.AxesImage at 0x7c0c4378d540>"
            ]
          },
          "metadata": {},
          "execution_count": 176
        },
        {
          "output_type": "display_data",
          "data": {
            "text/plain": [
              "<Figure size 640x480 with 1 Axes>"
            ],
            "image/png": "[encoded data removed]"
          },
          "metadata": {}
        }
      ]
    },
    {
      "cell_type": "code",
      "source": [
        "# Create a DataFrame to store image paths and labels\n",
        "df = pd.DataFrame({'Image_Path': image_paths, 'Label': labels})"
      ],
      "metadata": {
        "id": "_aLNGIPhNE8m"
      },
      "execution_count": 177,
      "outputs": []
    },
    {
      "cell_type": "code",
      "source": [
        "# Define the paths for the CSV files\n",
        "train_csv_path = '/content/drive/My Drive/Deep_Learning/train.csv'\n",
        "test_csv_path = '/content/drive/My Drive/Deep_Learning/test.csv'"
      ],
      "metadata": {
        "id": "US000-ivNMHH"
      },
      "execution_count": 178,
      "outputs": []
    },
    {
      "cell_type": "code",
      "source": [
        "os.chdir(\"/content/drive/My Drive/Deep_Learning\")\n",
        "os.getcwd()"
      ],
      "metadata": {
        "colab": {
          "base_uri": "https://localhost:8080/",
          "height": 35
        },
        "id": "Pw3BcrXPNb_G",
        "outputId": "8ae51495-9d57-499e-e161-f725dd7a7b15"
      },
      "execution_count": 179,
      "outputs": [
        {
          "output_type": "execute_result",
          "data": {
            "text/plain": [
              "'/content/drive/My Drive/Deep_Learning'"
            ],
            "application/vnd.google.colaboratory.intrinsic+json": {
              "type": "string"
            }
          },
          "metadata": {},
          "execution_count": 179
        }
      ]
    },
    {
      "cell_type": "code",
      "source": [
        "# Split the DataFrame into training and testing sets\n",
        "train_df, test_df = train_test_split(df, test_size=0.2, random_state=42)"
      ],
      "metadata": {
        "id": "iFGIGdxQNldQ"
      },
      "execution_count": 180,
      "outputs": []
    },
    {
      "cell_type": "code",
      "source": [
        "# Save the training and testing DataFrames as CSV files\n",
        "train_df.to_csv(train_csv_path, index=False)\n",
        "test_df.to_csv(test_csv_path, index=False)"
      ],
      "metadata": {
        "id": "Ov4JwvDgNuXW"
      },
      "execution_count": 181,
      "outputs": []
    },
    {
      "cell_type": "code",
      "source": [
        "print(f\"CSV files saved:\\n- Training CSV: {train_csv_path}\\n- Testing CSV: {test_csv_path}\")"
      ],
      "metadata": {
        "colab": {
          "base_uri": "https://localhost:8080/"
        },
        "id": "6R98OAEPYPdd",
        "outputId": "a22dcf85-5f06-4f77-b485-dc995b666eff"
      },
      "execution_count": 182,
      "outputs": [
        {
          "output_type": "stream",
          "name": "stdout",
          "text": [
            "CSV files saved:\n",
            "- Training CSV: /content/drive/My Drive/Deep_Learning/train.csv\n",
            "- Testing CSV: /content/drive/My Drive/Deep_Learning/test.csv\n"
          ]
        }
      ]
    },
    {
      "cell_type": "markdown",
      "source": [
        "Develop the CNN Algorithm"
      ],
      "metadata": {
        "id": "CFbSRMXxYUO9"
      }
    },
    {
      "cell_type": "code",
      "source": [
        "# Define image size\n",
        "image_height, image_width = 80, 80\n",
        "\n",
        "# Define the paths for the CSV files (change these paths as needed)\n",
        "train_csv_path = '/content/drive/My Drive/Deep_Learning/train.csv'\n",
        "test_csv_path = '/content/drive/My Drive/Deep_Learning/test.csv'\n",
        "\n",
        "# Load the CSV files\n",
        "train_df = pd.read_csv(train_csv_path)\n",
        "test_df = pd.read_csv(test_csv_path)\n",
        ""
      ],
      "metadata": {
        "id": "KWeZywnwYVPM"
      },
      "execution_count": 183,
      "outputs": []
    },
    {
      "cell_type": "code",
      "source": [
        "# Load and preprocess the images\n",
        "def preprocess_images(image_paths, target_size=(image_height, image_width)):\n",
        "    images = []\n",
        "    for image_path in image_paths:\n",
        "        img = load_img(image_path, target_size=target_size)\n",
        "        img = img_to_array(img) / 255.0\n",
        "        images.append(img)\n",
        "    return np.array(images)"
      ],
      "metadata": {
        "id": "J_rxGxT5Yv1t"
      },
      "execution_count": 184,
      "outputs": []
    },
    {
      "cell_type": "code",
      "source": [
        "X_train = preprocess_images(train_df['Image_Path'])\n",
        "X_test = preprocess_images(test_df['Image_Path'])\n",
        "\n",
        "# Convert labels to binary format (0 or 1)\n",
        "Y_train = train_df['Label'].values\n",
        "Y_test = test_df['Label'].values"
      ],
      "metadata": {
        "id": "cKWgWNt3Yzox"
      },
      "execution_count": 185,
      "outputs": []
    },
    {
      "cell_type": "code",
      "source": [
        "X_train = X_train.reshape(len(X_train), 80, 80, 3)\n",
        "Y_train = Y_train.reshape(len(Y_train), 1)\n",
        "X_test = X_test.reshape(len(X_test), 80, 80, 3)\n",
        "Y_test = Y_test.reshape(len(Y_test), 1)\n",
        "print(\"Shape of X_train: \", X_train.shape)\n",
        "print(\"Shape of Y_train: \", Y_train.shape)\n",
        "print(\"Shape of X_test: \", X_test.shape)\n",
        "print(\"Shape of Y_test: \", Y_test.shape)"
      ],
      "metadata": {
        "colab": {
          "base_uri": "https://localhost:8080/"
        },
        "id": "yArfc5YcY2nq",
        "outputId": "ad129c40-782a-48db-cc75-b09f538ec5c0"
      },
      "execution_count": 186,
      "outputs": [
        {
          "output_type": "stream",
          "name": "stdout",
          "text": [
            "Shape of X_train:  (80, 80, 80, 3)\n",
            "Shape of Y_train:  (80, 1)\n",
            "Shape of X_test:  (20, 80, 80, 3)\n",
            "Shape of Y_test:  (20, 1)\n"
          ]
        }
      ]
    },
    {
      "cell_type": "code",
      "source": [
        "# Create a CNN model for binary classification\n",
        "model = Sequential()\n",
        "model.add(Conv2D(32, kernel_size=(3, 3), activation='relu', input_shape=(image_height, image_width, 3)))\n",
        "model.add(MaxPooling2D(pool_size=(2, 2)))\n",
        "model.add(Flatten())\n",
        "model.add(Dense(128, activation='relu'))\n",
        "model.add(Dense(1, activation='sigmoid'))  # Sigmoid activation for binary classification"
      ],
      "metadata": {
        "id": "PAXKSperY7gE"
      },
      "execution_count": 187,
      "outputs": []
    },
    {
      "cell_type": "code",
      "source": [
        "# Compile the model\n",
        "model.compile(loss='binary_crossentropy', optimizer='adam', metrics=['accuracy'])"
      ],
      "metadata": {
        "id": "2p5FpXCrY_o3"
      },
      "execution_count": 188,
      "outputs": []
    },
    {
      "cell_type": "code",
      "source": [
        "model.fit(X_train, Y_train, epochs = 10, batch_size = 64)"
      ],
      "metadata": {
        "colab": {
          "base_uri": "https://localhost:8080/"
        },
        "id": "bjIQpqVtZDhV",
        "outputId": "7cb504c0-9c84-4b97-bb6e-cd9e90462701"
      },
      "execution_count": 233,
      "outputs": [
        {
          "output_type": "stream",
          "name": "stdout",
          "text": [
            "Epoch 1/10\n",
            "2/2 [==============================] - 1s 133ms/step - loss: 0.2402 - accuracy: 0.9625\n",
            "Epoch 2/10\n",
            "2/2 [==============================] - 0s 138ms/step - loss: 0.2451 - accuracy: 0.9500\n",
            "Epoch 3/10\n",
            "2/2 [==============================] - 0s 131ms/step - loss: 0.2278 - accuracy: 0.9750\n",
            "Epoch 4/10\n",
            "2/2 [==============================] - 0s 145ms/step - loss: 0.2338 - accuracy: 0.9625\n",
            "Epoch 5/10\n",
            "2/2 [==============================] - 0s 136ms/step - loss: 0.2171 - accuracy: 0.9750\n",
            "Epoch 6/10\n",
            "2/2 [==============================] - 0s 131ms/step - loss: 0.2338 - accuracy: 0.9375\n",
            "Epoch 7/10\n",
            "2/2 [==============================] - 0s 134ms/step - loss: 0.2097 - accuracy: 0.9750\n",
            "Epoch 8/10\n",
            "2/2 [==============================] - 0s 131ms/step - loss: 0.2278 - accuracy: 0.9625\n",
            "Epoch 9/10\n",
            "2/2 [==============================] - 1s 236ms/step - loss: 0.2074 - accuracy: 0.9750\n",
            "Epoch 10/10\n",
            "2/2 [==============================] - 1s 254ms/step - loss: 0.1949 - accuracy: 0.9750\n"
          ]
        },
        {
          "output_type": "execute_result",
          "data": {
            "text/plain": [
              "<keras.src.callbacks.History at 0x7c0c4960f220>"
            ]
          },
          "metadata": {},
          "execution_count": 233
        }
      ]
    },
    {
      "cell_type": "code",
      "source": [
        "# Evaluate the model on the test data\n",
        "accuracy = model.evaluate(X_test, Y_test)[1]\n",
        "print(f\"Test accuracy: {accuracy}\")"
      ],
      "metadata": {
        "colab": {
          "base_uri": "https://localhost:8080/"
        },
        "id": "51zc8sX3ZOm7",
        "outputId": "f2df7dca-0570-4923-9222-b3d391be5216"
      },
      "execution_count": 234,
      "outputs": [
        {
          "output_type": "stream",
          "name": "stdout",
          "text": [
            "1/1 [==============================] - 0s 50ms/step - loss: 0.9079 - accuracy: 0.5000\n",
            "Test accuracy: 0.5\n"
          ]
        }
      ]
    },
    {
      "cell_type": "code",
      "source": [
        "# Save the trained model\n",
        "model.save('/content/drive/My Drive/Deep_Learning/trained_model.h5')"
      ],
      "metadata": {
        "colab": {
          "base_uri": "https://localhost:8080/"
        },
        "id": "q8pscz0qZRfZ",
        "outputId": "80d44eed-609a-406f-cd71-48ec44210fd5"
      },
      "execution_count": 235,
      "outputs": [
        {
          "output_type": "stream",
          "name": "stderr",
          "text": [
            "/usr/local/lib/python3.10/dist-packages/keras/src/engine/training.py:3103: UserWarning: You are saving your model as an HDF5 file via `model.save()`. This file format is considered legacy. We recommend using instead the native Keras format, e.g. `model.save('my_model.keras')`.\n",
            "  saving_api.save_model(\n"
          ]
        }
      ]
    },
    {
      "cell_type": "markdown",
      "source": [
        "Test Images"
      ],
      "metadata": {
        "id": "Xx5l26GsZb1_"
      }
    },
    {
      "cell_type": "code",
      "source": [
        "# Load the trained model\n",
        "model = load_model('/content/drive/My Drive/Deep_Learning/trained_model.h5')"
      ],
      "metadata": {
        "id": "Wx4ssf31Zea4"
      },
      "execution_count": 236,
      "outputs": []
    },
    {
      "cell_type": "code",
      "source": [
        "# Use the model to predict labels for the test images\n",
        "predicted_labels = model.predict(X_test)\n",
        "predicted_labels = np.argmax(predicted_labels, axis=1)  # Convert softmax outputs to class labels"
      ],
      "metadata": {
        "colab": {
          "base_uri": "https://localhost:8080/"
        },
        "id": "6-VM1KJtZnQm",
        "outputId": "7a187520-a983-4e75-8466-4047ca8b190c"
      },
      "execution_count": 237,
      "outputs": [
        {
          "output_type": "stream",
          "name": "stdout",
          "text": [
            "1/1 [==============================] - 0s 96ms/step\n"
          ]
        }
      ]
    },
    {
      "cell_type": "code",
      "source": [
        "# Create a DataFrame to store the image paths and predicted labels\n",
        "output_df = pd.DataFrame({'Image_Path': test_df['Image_Path'], 'Predicted_Label': predicted_labels})"
      ],
      "metadata": {
        "id": "WGFpezM8Zrce"
      },
      "execution_count": 238,
      "outputs": []
    },
    {
      "cell_type": "code",
      "source": [
        "# Save the output DataFrame as a CSV file (you can change the output path)\n",
        "output_csv_path = '/content/drive/My Drive/Deep_Learning/predicted_labels.csv'\n",
        "output_df.to_csv(output_csv_path, index=False)\n",
        "\n",
        "print(f\"Predicted labels saved to: {output_csv_path}\")"
      ],
      "metadata": {
        "colab": {
          "base_uri": "https://localhost:8080/"
        },
        "id": "rkIu3FNaZwSP",
        "outputId": "e53275d0-b10d-4c9b-f561-59da7624cc9c"
      },
      "execution_count": 239,
      "outputs": [
        {
          "output_type": "stream",
          "name": "stdout",
          "text": [
            "Predicted labels saved to: /content/drive/My Drive/Deep_Learning/predicted_labels.csv\n"
          ]
        }
      ]
    },
    {
      "cell_type": "markdown",
      "source": [
        "Cheking original images"
      ],
      "metadata": {
        "id": "Rs1GwGseZ4fp"
      }
    },
    {
      "cell_type": "code",
      "source": [
        "idx = random.randint(0, len(X_train))\n",
        "plt.imshow(X_train[idx, :])\n",
        "plt.show()"
      ],
      "metadata": {
        "colab": {
          "base_uri": "https://localhost:8080/",
          "height": 433
        },
        "id": "jRNlBN-hZ9iK",
        "outputId": "584c23ad-4865-4ba5-d143-35b5276fd5c1"
      },
      "execution_count": 240,
      "outputs": [
        {
          "output_type": "display_data",
          "data": {
            "text/plain": [
              "<Figure size 640x480 with 1 Axes>"
            ],
            "image/png": "[encoded data removed]"
          },
          "metadata": {}
        }
      ]
    },
    {
      "cell_type": "markdown",
      "source": [
        "Model evaluation"
      ],
      "metadata": {
        "id": "bJZ3spDpaJol"
      }
    },
    {
      "cell_type": "code",
      "source": [
        "model.evaluate(X_test, Y_test)"
      ],
      "metadata": {
        "colab": {
          "base_uri": "https://localhost:8080/"
        },
        "id": "KZPMaAh3aELp",
        "outputId": "3c75487b-192e-44be-f9bf-7235e27eb0eb"
      },
      "execution_count": 241,
      "outputs": [
        {
          "output_type": "stream",
          "name": "stdout",
          "text": [
            "1/1 [==============================] - 0s 204ms/step - loss: 0.9079 - accuracy: 0.5000\n"
          ]
        },
        {
          "output_type": "execute_result",
          "data": {
            "text/plain": [
              "[0.9078880548477173, 0.5]"
            ]
          },
          "metadata": {},
          "execution_count": 241
        }
      ]
    },
    {
      "cell_type": "code",
      "source": [
        "# Choose a random index from the test set\n",
        "idx2 = random.randint(0, len(Y_test))\n",
        "\n",
        "# Display the image\n",
        "plt.imshow(X_test[idx2, :])\n",
        "plt.show()\n",
        "\n",
        "# Predict using the model for the selected image\n",
        "y_pred = model.predict(X_test[idx2, :].reshape(1, 80, 80, 3))\n",
        "\n",
        "# Check the prediction and print the result\n",
        "if np.all(y_pred < 0.5):\n",
        "    pred = 'ල'\n",
        "else:\n",
        "    pred = 'ව'\n",
        "\n",
        "print(\"මෙය\", pred, \"අකුර වේ\")\n",
        "\n",
        "# Evaluate the model on the test data\n",
        "loss, accuracy = model.evaluate(X_test, Y_test)\n",
        "\n",
        "# Print the test accuracy\n",
        "print(f\"Test accuracy: {accuracy}\")"
      ],
      "metadata": {
        "colab": {
          "base_uri": "https://localhost:8080/",
          "height": 504
        },
        "id": "5CpUxqvVaSDr",
        "outputId": "b0a5b00f-22db-4630-a479-1218b3422690"
      },
      "execution_count": 248,
      "outputs": [
        {
          "output_type": "display_data",
          "data": {
            "text/plain": [
              "<Figure size 640x480 with 1 Axes>"
            ],
            "image/png": "[encoded data removed]"
          },
          "metadata": {}
        },
        {
          "output_type": "stream",
          "name": "stdout",
          "text": [
            "1/1 [==============================] - 0s 59ms/step\n",
            "මෙය ව අකුර වේ\n",
            "1/1 [==============================] - 0s 89ms/step - loss: 0.9079 - accuracy: 0.5000\n",
            "Test accuracy: 0.5\n"
          ]
        }
      ]
    },
    {
      "cell_type": "code",
      "source": [
        "# Choose a random index from the test set\n",
        "idx2 = random.randint(0, len(Y_test))\n",
        "\n",
        "# Display the image\n",
        "plt.imshow(X_test[idx2, :])\n",
        "plt.show()\n",
        "\n",
        "# Predict using the model for the selected image\n",
        "y_pred = model.predict(X_test[idx2, :].reshape(1, 80, 80, 3))\n",
        "\n",
        "# Check the prediction and print the result\n",
        "if np.all(y_pred < 0.5):\n",
        "    pred = 'ල'\n",
        "else:\n",
        "    pred = 'ව'\n",
        "\n",
        "print(\"මෙය\", pred, \"අකුර වේ\")\n",
        "\n",
        "# Evaluate the model on the test data\n",
        "loss, accuracy = model.evaluate(X_test, Y_test)\n",
        "\n",
        "# Print the test accuracy\n",
        "print(f\"Test accuracy: {accuracy}\")"
      ],
      "metadata": {
        "colab": {
          "base_uri": "https://localhost:8080/",
          "height": 504
        },
        "id": "Q9Ah5BUpbEIR",
        "outputId": "79970cac-1c61-4947-a52a-a6f5b4081275"
      },
      "execution_count": 232,
      "outputs": [
        {
          "output_type": "display_data",
          "data": {
            "text/plain": [
              "<Figure size 640x480 with 1 Axes>"
            ],
            "image/png": "[encoded data removed]"
          },
          "metadata": {}
        },
        {
          "output_type": "stream",
          "name": "stdout",
          "text": [
            "1/1 [==============================] - 0s 36ms/step\n",
            "මෙය ල අකුර වේ\n",
            "1/1 [==============================] - 0s 55ms/step - loss: 0.7828 - accuracy: 0.5500\n",
            "Test accuracy: 0.550000011920929\n"
          ]
        }
      ]
    }
  ]
}