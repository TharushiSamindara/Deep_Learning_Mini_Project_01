{
  "nbformat": 4,
  "nbformat_minor": 0,
  "metadata": {
    "colab": {
      "provenance": []
    },
    "kernelspec": {
      "name": "python3",
      "display_name": "Python 3"
    },
    "language_info": {
      "name": "python"
    }
  },
  "cells": [
    {
      "cell_type": "markdown",
      "source": [
        "Creating CSV files"
      ],
      "metadata": {
        "id": "LKvUT48PGAzn"
      }
    },
    {
      "cell_type": "code",
      "execution_count": null,
      "metadata": {
        "id": "hQKBOb7_F6hH"
      },
      "outputs": [],
      "source": [
        "import numpy as np\n",
        "import random\n",
        "import os\n",
        "import matplotlib.pyplot as plt\n",
        "import pandas as pd\n",
        "from tensorflow.keras.models import Sequential\n",
        "from tensorflow.keras.layers import Conv2D, MaxPooling2D, Dense, Flatten\n",
        "from tensorflow.keras.utils import to_categorical\n",
        "from tensorflow.keras.preprocessing.image import load_img, img_to_array\n",
        "from tensorflow.keras.models import load_model\n",
        "from sklearn.model_selection import train_test_split"
      ]
    },
    {
      "cell_type": "markdown",
      "source": [
        "Mount the Google Drive"
      ],
      "metadata": {
        "id": "6h32GN1PLVwy"
      }
    },
    {
      "cell_type": "code",
      "source": [
        "from google.colab import drive\n",
        "drive.mount('/content/drive')"
      ],
      "metadata": {
        "colab": {
          "base_uri": "https://localhost:8080/"
        },
        "id": "IRz8l5diLToH",
        "outputId": "566eee35-e34b-4c36-a079-568cda0fa170"
      },
      "execution_count": null,
      "outputs": [
        {
          "output_type": "stream",
          "name": "stdout",
          "text": [
            "Mounted at /content/drive\n"
          ]
        }
      ]
    },
    {
      "cell_type": "markdown",
      "source": [
        "Preprocess the Data: Load the images, resize them and create labels."
      ],
      "metadata": {
        "id": "ct5rofKRMRHL"
      }
    },
    {
      "cell_type": "code",
      "source": [
        "# Directory containing the uploaded images\n",
        "image_dir = '/content/drive/My Drive/Deep_Learning/Data'"
      ],
      "metadata": {
        "id": "QmiezdCdL5Nf"
      },
      "execution_count": null,
      "outputs": []
    },
    {
      "cell_type": "code",
      "source": [
        "image_paths = []\n",
        "labels = []"
      ],
      "metadata": {
        "id": "UyYIVr6TMt91"
      },
      "execution_count": null,
      "outputs": []
    },
    {
      "cell_type": "markdown",
      "source": [
        "Load the Dataset and Class Labels"
      ],
      "metadata": {
        "id": "bOtZdSiiMw_3"
      }
    },
    {
      "cell_type": "code",
      "source": [
        "for filename in os.listdir(image_dir):\n",
        "    if filename.startswith(\"L\") or filename.startswith(\"W\"):\n",
        "        image_paths.append(os.path.join(image_dir, filename))\n",
        "        # Create labels based on the filenames (0 for L, 1 for W)\n",
        "        if filename.startswith(\"L\"):\n",
        "            labels.append(0)\n",
        "        elif filename.startswith(\"W\"):\n",
        "            labels.append(1)"
      ],
      "metadata": {
        "id": "RFisR00_MyMp"
      },
      "execution_count": null,
      "outputs": []
    },
    {
      "cell_type": "code",
      "source": [
        "from tensorflow.keras.preprocessing import image\n",
        "img = image.load_img('/content/drive/My Drive/Deep_Learning/Data/L04.jpeg')\n",
        "plt.imshow(img)"
      ],
      "metadata": {
        "colab": {
          "base_uri": "https://localhost:8080/",
          "height": 453
        },
        "id": "Mrip_tFbTy9u",
        "outputId": "b8c4a559-445a-4a3f-d367-01f65cdcd43e"
      },
      "execution_count": null,
      "outputs": [
        {
          "output_type": "execute_result",
          "data": {
            "text/plain": [
              "<matplotlib.image.AxesImage at 0x7cb7ba3ef1c0>"
            ]
          },
          "metadata": {},
          "execution_count": 12
        },
        {
          "output_type": "display_data",
          "data": {
            "text/plain": [
              "<Figure size 640x480 with 1 Axes>"
            ],
            "image/png": "[encoded data removed]"
          },
          "metadata": {}
        }
      ]
    },
    {
      "cell_type": "code",
      "source": [
        "# Create a DataFrame to store image paths and labels\n",
        "df = pd.DataFrame({'Image_Path': image_paths, 'Label': labels})"
      ],
      "metadata": {
        "id": "_aLNGIPhNE8m"
      },
      "execution_count": null,
      "outputs": []
    },
    {
      "cell_type": "code",
      "source": [
        "# Define the paths for the CSV files\n",
        "train_csv_path = '/content/drive/My Drive/Deep_Learning/train.csv'\n",
        "test_csv_path = '/content/drive/My Drive/Deep_Learning/test.csv'"
      ],
      "metadata": {
        "id": "US000-ivNMHH"
      },
      "execution_count": null,
      "outputs": []
    },
    {
      "cell_type": "code",
      "source": [
        "os.chdir(\"/content/drive/My Drive/Deep_Learning\")\n",
        "os.getcwd()"
      ],
      "metadata": {
        "colab": {
          "base_uri": "https://localhost:8080/",
          "height": 35
        },
        "id": "Pw3BcrXPNb_G",
        "outputId": "6213e4e7-8c42-4a79-c2fe-d3ca8fe9dd34"
      },
      "execution_count": null,
      "outputs": [
        {
          "output_type": "execute_result",
          "data": {
            "text/plain": [
              "'/content/drive/My Drive/Deep_Learning'"
            ],
            "application/vnd.google.colaboratory.intrinsic+json": {
              "type": "string"
            }
          },
          "metadata": {},
          "execution_count": 15
        }
      ]
    },
    {
      "cell_type": "code",
      "source": [
        "# Split the DataFrame into training and testing sets\n",
        "train_df, test_df = train_test_split(df, test_size=0.2, random_state=42)"
      ],
      "metadata": {
        "id": "iFGIGdxQNldQ"
      },
      "execution_count": null,
      "outputs": []
    },
    {
      "cell_type": "code",
      "source": [
        "# Save the training and testing DataFrames as CSV files\n",
        "train_df.to_csv(train_csv_path, index=False)\n",
        "test_df.to_csv(test_csv_path, index=False)"
      ],
      "metadata": {
        "id": "Ov4JwvDgNuXW"
      },
      "execution_count": null,
      "outputs": []
    },
    {
      "cell_type": "code",
      "source": [
        "print(f\"CSV files saved:\\n- Training CSV: {train_csv_path}\\n- Testing CSV: {test_csv_path}\")"
      ],
      "metadata": {
        "colab": {
          "base_uri": "https://localhost:8080/"
        },
        "id": "6R98OAEPYPdd",
        "outputId": "49757625-4f9b-421b-a078-87d5a1a09bef"
      },
      "execution_count": null,
      "outputs": [
        {
          "output_type": "stream",
          "name": "stdout",
          "text": [
            "CSV files saved:\n",
            "- Training CSV: /content/drive/My Drive/Deep_Learning/train.csv\n",
            "- Testing CSV: /content/drive/My Drive/Deep_Learning/test.csv\n"
          ]
        }
      ]
    },
    {
      "cell_type": "markdown",
      "source": [
        "Develop the CNN Algorithm"
      ],
      "metadata": {
        "id": "CFbSRMXxYUO9"
      }
    },
    {
      "cell_type": "code",
      "source": [
        "# Define image size\n",
        "image_height, image_width = 400, 400\n",
        "\n",
        "# Define the paths for the CSV files (change these paths as needed)\n",
        "train_csv_path = '/content/drive/My Drive/Deep_Learning/train.csv'\n",
        "test_csv_path = '/content/drive/My Drive/Deep_Learning/test.csv'\n",
        "\n",
        "# Load the CSV files\n",
        "train_df = pd.read_csv(train_csv_path)\n",
        "test_df = pd.read_csv(test_csv_path)\n"
      ],
      "metadata": {
        "id": "KWeZywnwYVPM"
      },
      "execution_count": null,
      "outputs": []
    },
    {
      "cell_type": "code",
      "source": [
        "# Load and preprocess the images\n",
        "def preprocess_images(image_paths, target_size=(image_height, image_width)):\n",
        "    images = []\n",
        "    for image_path in image_paths:\n",
        "        img = load_img(image_path, target_size=target_size)\n",
        "        img = img_to_array(img) / 255.0\n",
        "        images.append(img)\n",
        "    return np.array(images)"
      ],
      "metadata": {
        "id": "J_rxGxT5Yv1t"
      },
      "execution_count": null,
      "outputs": []
    },
    {
      "cell_type": "code",
      "source": [
        "X_train = preprocess_images(train_df['Image_Path'])\n",
        "X_test = preprocess_images(test_df['Image_Path'])\n",
        "\n",
        "# Convert labels to binary format (0 or 1)\n",
        "Y_train = train_df['Label'].values\n",
        "Y_test = test_df['Label'].values"
      ],
      "metadata": {
        "id": "cKWgWNt3Yzox"
      },
      "execution_count": null,
      "outputs": []
    },
    {
      "cell_type": "code",
      "source": [
        "X_train = X_train.reshape(len(X_train), 400, 400, 3)\n",
        "Y_train = Y_train.reshape(len(Y_train), 1)\n",
        "X_test = X_test.reshape(len(X_test), 400, 400, 3)\n",
        "Y_test = Y_test.reshape(len(Y_test), 1)\n",
        "print(\"Shape of X_train: \", X_train.shape)\n",
        "print(\"Shape of Y_train: \", Y_train.shape)\n",
        "print(\"Shape of X_test: \", X_test.shape)\n",
        "print(\"Shape of Y_test: \", Y_test.shape)"
      ],
      "metadata": {
        "colab": {
          "base_uri": "https://localhost:8080/"
        },
        "id": "yArfc5YcY2nq",
        "outputId": "c8e508ee-4926-437c-aab3-509bbd7ad664"
      },
      "execution_count": null,
      "outputs": [
        {
          "output_type": "stream",
          "name": "stdout",
          "text": [
            "Shape of X_train:  (128, 400, 400, 3)\n",
            "Shape of Y_train:  (128, 1)\n",
            "Shape of X_test:  (32, 400, 400, 3)\n",
            "Shape of Y_test:  (32, 1)\n"
          ]
        }
      ]
    },
    {
      "cell_type": "code",
      "source": [
        "idx = random.randint(0, len(X_train))\n",
        "plt.imshow(X_train[idx, :])\n",
        "plt.show()"
      ],
      "metadata": {
        "colab": {
          "base_uri": "https://localhost:8080/",
          "height": 435
        },
        "id": "x_k93mvZ5dMj",
        "outputId": "b2f6d177-9e7d-4756-ba9d-0c7dfe051a52"
      },
      "execution_count": null,
      "outputs": [
        {
          "output_type": "display_data",
          "data": {
            "text/plain": [
              "<Figure size 640x480 with 1 Axes>"
            ],
            "image/png": "[encoded data removed]"
          },
          "metadata": {}
        }
      ]
    },
    {
      "cell_type": "code",
      "source": [
        "# Create a CNN model for binary classification\n",
        "model = Sequential()\n",
        "model.add(Conv2D(32, kernel_size=(3, 3), activation='relu', input_shape=(image_height, image_width, 3)))\n",
        "model.add(MaxPooling2D(pool_size=(2, 2)))\n",
        "model.add(Conv2D(16, kernel_size=(3, 3), activation='relu', input_shape=(image_height, image_width, 3)))\n",
        "model.add(MaxPooling2D(pool_size=(2, 2)))\n",
        "model.add(Conv2D(8, kernel_size=(3, 3), activation='relu', input_shape=(image_height, image_width, 3)))\n",
        "model.add(MaxPooling2D(pool_size=(2, 2)))\n",
        "model.add(Flatten())\n",
        "model.add(Dense(128, activation='relu'))\n",
        "model.add(Dense(1, activation='sigmoid'))  # Sigmoid activation for binary classification"
      ],
      "metadata": {
        "id": "PAXKSperY7gE"
      },
      "execution_count": null,
      "outputs": []
    },
    {
      "cell_type": "code",
      "source": [
        "# Compile the model\n",
        "model.compile(loss='binary_crossentropy', optimizer='adam', metrics=['accuracy'])"
      ],
      "metadata": {
        "id": "2p5FpXCrY_o3"
      },
      "execution_count": null,
      "outputs": []
    },
    {
      "cell_type": "code",
      "source": [
        "model.fit(X_train, Y_train, epochs = 20, batch_size = 16)"
      ],
      "metadata": {
        "colab": {
          "base_uri": "https://localhost:8080/"
        },
        "id": "bjIQpqVtZDhV",
        "outputId": "76e759e3-e304-4297-d8ef-28d7cbf87695"
      },
      "execution_count": null,
      "outputs": [
        {
          "output_type": "stream",
          "name": "stdout",
          "text": [
            "Epoch 1/20\n",
            "8/8 [==============================] - 20s 3s/step - loss: 0.0509 - accuracy: 0.9922\n",
            "Epoch 2/20\n",
            "8/8 [==============================] - 21s 3s/step - loss: 0.0139 - accuracy: 1.0000\n",
            "Epoch 3/20\n",
            "8/8 [==============================] - 20s 2s/step - loss: 0.0054 - accuracy: 1.0000\n",
            "Epoch 4/20\n",
            "8/8 [==============================] - 21s 3s/step - loss: 0.0027 - accuracy: 1.0000\n",
            "Epoch 5/20\n",
            "8/8 [==============================] - 21s 2s/step - loss: 0.0015 - accuracy: 1.0000\n",
            "Epoch 6/20\n",
            "8/8 [==============================] - 20s 3s/step - loss: 9.9572e-04 - accuracy: 1.0000\n",
            "Epoch 7/20\n",
            "8/8 [==============================] - 21s 3s/step - loss: 7.3109e-04 - accuracy: 1.0000\n",
            "Epoch 8/20\n",
            "8/8 [==============================] - 20s 3s/step - loss: 6.3680e-04 - accuracy: 1.0000\n",
            "Epoch 9/20\n",
            "8/8 [==============================] - 28s 4s/step - loss: 5.2444e-04 - accuracy: 1.0000\n",
            "Epoch 10/20\n",
            "8/8 [==============================] - 23s 3s/step - loss: 4.6374e-04 - accuracy: 1.0000\n",
            "Epoch 11/20\n",
            "8/8 [==============================] - 20s 3s/step - loss: 3.9931e-04 - accuracy: 1.0000\n",
            "Epoch 12/20\n",
            "8/8 [==============================] - 22s 3s/step - loss: 3.5698e-04 - accuracy: 1.0000\n",
            "Epoch 13/20\n",
            "8/8 [==============================] - 20s 3s/step - loss: 3.1246e-04 - accuracy: 1.0000\n",
            "Epoch 14/20\n",
            "8/8 [==============================] - 21s 3s/step - loss: 2.7817e-04 - accuracy: 1.0000\n",
            "Epoch 15/20\n",
            "8/8 [==============================] - 20s 3s/step - loss: 2.4942e-04 - accuracy: 1.0000\n",
            "Epoch 16/20\n",
            "8/8 [==============================] - 21s 3s/step - loss: 2.2386e-04 - accuracy: 1.0000\n",
            "Epoch 17/20\n",
            "8/8 [==============================] - 21s 3s/step - loss: 2.0077e-04 - accuracy: 1.0000\n",
            "Epoch 18/20\n",
            "8/8 [==============================] - 20s 3s/step - loss: 1.8676e-04 - accuracy: 1.0000\n",
            "Epoch 19/20\n",
            "8/8 [==============================] - 21s 3s/step - loss: 1.6966e-04 - accuracy: 1.0000\n",
            "Epoch 20/20\n",
            "8/8 [==============================] - 20s 3s/step - loss: 1.5147e-04 - accuracy: 1.0000\n"
          ]
        },
        {
          "output_type": "execute_result",
          "data": {
            "text/plain": [
              "<keras.src.callbacks.History at 0x7cb7a479d0c0>"
            ]
          },
          "metadata": {},
          "execution_count": 51
        }
      ]
    },
    {
      "cell_type": "code",
      "source": [
        "# Evaluate the model on the test data\n",
        "accuracy = model.evaluate(X_test, Y_test)[1]\n",
        "print(f\"Test accuracy: {accuracy}\")"
      ],
      "metadata": {
        "colab": {
          "base_uri": "https://localhost:8080/"
        },
        "id": "51zc8sX3ZOm7",
        "outputId": "a2245e50-e1e0-4429-aae1-818134d64566"
      },
      "execution_count": null,
      "outputs": [
        {
          "output_type": "stream",
          "name": "stdout",
          "text": [
            "1/1 [==============================] - 1s 1s/step - loss: 0.0342 - accuracy: 1.0000\n",
            "Test accuracy: 1.0\n"
          ]
        }
      ]
    },
    {
      "cell_type": "code",
      "source": [
        "# Save the trained model\n",
        "model.save('/content/drive/My Drive/Deep_Learning/trained_model.h5')"
      ],
      "metadata": {
        "colab": {
          "base_uri": "https://localhost:8080/"
        },
        "id": "q8pscz0qZRfZ",
        "outputId": "5c69731d-6789-40bb-a4ad-43ed6398705f"
      },
      "execution_count": null,
      "outputs": [
        {
          "output_type": "stream",
          "name": "stderr",
          "text": [
            "/usr/local/lib/python3.10/dist-packages/keras/src/engine/training.py:3103: UserWarning: You are saving your model as an HDF5 file via `model.save()`. This file format is considered legacy. We recommend using instead the native Keras format, e.g. `model.save('my_model.keras')`.\n",
            "  saving_api.save_model(\n"
          ]
        }
      ]
    },
    {
      "cell_type": "markdown",
      "source": [
        "Test Images"
      ],
      "metadata": {
        "id": "Xx5l26GsZb1_"
      }
    },
    {
      "cell_type": "code",
      "source": [
        "# Load the trained model\n",
        "model = load_model('/content/drive/My Drive/Deep_Learning/trained_model.h5')"
      ],
      "metadata": {
        "id": "Wx4ssf31Zea4"
      },
      "execution_count": null,
      "outputs": []
    },
    {
      "cell_type": "code",
      "source": [
        "# Use the model to predict labels for the test images\n",
        "predicted_labels = model.predict(X_test)\n",
        "predicted_labels = np.argmax(predicted_labels, axis=1)  # Convert softmax outputs to class labels"
      ],
      "metadata": {
        "colab": {
          "base_uri": "https://localhost:8080/"
        },
        "id": "6-VM1KJtZnQm",
        "outputId": "2e22038e-51b2-4c63-9aad-fe1f8e3368ef"
      },
      "execution_count": null,
      "outputs": [
        {
          "output_type": "stream",
          "name": "stdout",
          "text": [
            "1/1 [==============================] - 2s 2s/step\n"
          ]
        }
      ]
    },
    {
      "cell_type": "code",
      "source": [
        "# Create a DataFrame to store the image paths and predicted labels\n",
        "output_df = pd.DataFrame({'Image_Path': test_df['Image_Path'], 'Predicted_Label': predicted_labels})"
      ],
      "metadata": {
        "id": "WGFpezM8Zrce"
      },
      "execution_count": null,
      "outputs": []
    },
    {
      "cell_type": "code",
      "source": [
        "# Save the output DataFrame as a CSV file (you can change the output path)\n",
        "output_csv_path = '/content/drive/My Drive/Deep_Learning/predicted_labels.csv'\n",
        "output_df.to_csv(output_csv_path, index=False)\n",
        "\n",
        "print(f\"Predicted labels saved to: {output_csv_path}\")"
      ],
      "metadata": {
        "colab": {
          "base_uri": "https://localhost:8080/"
        },
        "id": "rkIu3FNaZwSP",
        "outputId": "9619f896-7e95-43a4-fbf9-513777a3201a"
      },
      "execution_count": null,
      "outputs": [
        {
          "output_type": "stream",
          "name": "stdout",
          "text": [
            "Predicted labels saved to: /content/drive/My Drive/Deep_Learning/predicted_labels.csv\n"
          ]
        }
      ]
    },
    {
      "cell_type": "markdown",
      "source": [
        "Cheking original images"
      ],
      "metadata": {
        "id": "Rs1GwGseZ4fp"
      }
    },
    {
      "cell_type": "code",
      "source": [
        "idx = random.randint(0, len(X_train))\n",
        "plt.imshow(X_train[idx, :])\n",
        "plt.show()"
      ],
      "metadata": {
        "colab": {
          "base_uri": "https://localhost:8080/",
          "height": 435
        },
        "id": "jRNlBN-hZ9iK",
        "outputId": "99e0598d-2411-47a3-f66c-e4c309e02543"
      },
      "execution_count": null,
      "outputs": [
        {
          "output_type": "display_data",
          "data": {
            "text/plain": [
              "<Figure size 640x480 with 1 Axes>"
            ],
            "image/png": "[encoded data removed]"
          },
          "metadata": {}
        }
      ]
    },
    {
      "cell_type": "markdown",
      "source": [
        "Model evaluation"
      ],
      "metadata": {
        "id": "bJZ3spDpaJol"
      }
    },
    {
      "cell_type": "code",
      "source": [
        "model.evaluate(X_test, Y_test)"
      ],
      "metadata": {
        "colab": {
          "base_uri": "https://localhost:8080/"
        },
        "id": "KZPMaAh3aELp",
        "outputId": "b89ffc5e-01fe-48bd-86d7-cc3b9c9d6778"
      },
      "execution_count": null,
      "outputs": [
        {
          "output_type": "stream",
          "name": "stdout",
          "text": [
            "1/1 [==============================] - 3s 3s/step - loss: 0.0342 - accuracy: 1.0000\n"
          ]
        },
        {
          "output_type": "execute_result",
          "data": {
            "text/plain": [
              "[0.03423767536878586, 1.0]"
            ]
          },
          "metadata": {},
          "execution_count": 59
        }
      ]
    },
    {
      "cell_type": "code",
      "source": [
        "# Choose a random index from the test set\n",
        "idx2 = random.randint(0, len(Y_test))\n",
        "\n",
        "# Display the image\n",
        "plt.imshow(X_test[idx2, :])\n",
        "plt.show()\n",
        "\n",
        "# Predict using the model for the selected image\n",
        "y_pred = model.predict(X_test[idx2, :].reshape(1, 400, 400, 3))\n",
        "\n",
        "# Check the prediction and print the result\n",
        "if np.all(y_pred < 0.5):\n",
        "    pred = 'ල'\n",
        "else:\n",
        "    pred = 'ව'\n",
        "\n",
        "print(\"මෙය\", pred, \"අකුර වේ\")\n",
        "\n",
        "# Evaluate the model on the test data\n",
        "loss, accuracy = model.evaluate(X_test, Y_test)\n",
        "\n",
        "# Print the test accuracy\n",
        "print(f\"Test accuracy: {accuracy}\")"
      ],
      "metadata": {
        "colab": {
          "base_uri": "https://localhost:8080/",
          "height": 506
        },
        "id": "5CpUxqvVaSDr",
        "outputId": "10e1089a-b83e-45de-91dc-8e2099f5235a"
      },
      "execution_count": null,
      "outputs": [
        {
          "output_type": "display_data",
          "data": {
            "text/plain": [
              "<Figure size 640x480 with 1 Axes>"
            ],
            "image/png": "[encoded data removed]"
          },
          "metadata": {}
        },
        {
          "output_type": "stream",
          "name": "stdout",
          "text": [
            "1/1 [==============================] - 0s 181ms/step\n",
            "මෙය ව අකුර වේ\n",
            "1/1 [==============================] - 1s 1s/step - loss: 0.0342 - accuracy: 1.0000\n",
            "Test accuracy: 1.0\n"
          ]
        }
      ]
    },
    {
      "cell_type": "code",
      "source": [
        "# Choose a random index from the test set\n",
        "idx2 = random.randint(0, len(Y_test))\n",
        "\n",
        "# Display the image\n",
        "plt.imshow(X_test[idx2, :])\n",
        "plt.show()\n",
        "\n",
        "# Predict using the model for the selected image\n",
        "y_pred = model.predict(X_test[idx2, :].reshape(1, 400, 400, 3))\n",
        "\n",
        "# Check the prediction and print the result\n",
        "if np.all(y_pred < 0.5):\n",
        "    pred = 'ල'\n",
        "else:\n",
        "    pred = 'ව'\n",
        "\n",
        "print(\"මෙය\", pred, \"අකුර වේ\")\n",
        "\n",
        "# Evaluate the model on the test data\n",
        "loss, accuracy = model.evaluate(X_test, Y_test)\n",
        "\n",
        "# Print the test accuracy\n",
        "print(f\"Test accuracy: {accuracy}\")"
      ],
      "metadata": {
        "id": "Q9Ah5BUpbEIR",
        "colab": {
          "base_uri": "https://localhost:8080/",
          "height": 506
        },
        "outputId": "c2a98b37-ace6-4d7d-b58a-247b9619fe10"
      },
      "execution_count": null,
      "outputs": [
        {
          "output_type": "display_data",
          "data": {
            "text/plain": [
              "<Figure size 640x480 with 1 Axes>"
            ],
            "image/png": "[encoded data removed]"
          },
          "metadata": {}
        },
        {
          "output_type": "stream",
          "name": "stdout",
          "text": [
            "1/1 [==============================] - 0s 55ms/step\n",
            "මෙය ල අකුර වේ\n",
            "1/1 [==============================] - 1s 1s/step - loss: 0.0342 - accuracy: 1.0000\n",
            "Test accuracy: 1.0\n"
          ]
        }
      ]
    }
  ]
}